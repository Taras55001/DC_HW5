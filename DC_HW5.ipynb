{
 "cells": [
  {
   "cell_type": "markdown",
   "id": "8ddbbf25-8ec6-43db-977f-49f83155b364",
   "metadata": {},
   "source": [
    "За даними акселерометра з мобільного телефону потрібно класифікувати, якою діяльністю займається людина: йде, стоїть, біжить чи йде по сходах"
   ]
  },
  {
   "cell_type": "code",
   "execution_count": 1,
   "id": "54c4451b-c2af-4f1c-93b9-83d3c4a0e85d",
   "metadata": {},
   "outputs": [],
   "source": [
    "import os\n",
    "import numpy as np\n",
    "import pandas as pd\n",
    "from sklearn.preprocessing import StandardScaler\n",
    "from sklearn.svm import SVC\n",
    "from sklearn.ensemble import RandomForestClassifier\n",
    "import matplotlib.pyplot as plt\n",
    "import seaborn as sns\n",
    "from sklearn.metrics import accuracy_score, confusion_matrix"
   ]
  },
  {
   "cell_type": "markdown",
   "id": "862dbe10-1142-4873-8154-4e87053b85de",
   "metadata": {},
   "source": [
    "# Збір даних"
   ]
  },
  {
   "cell_type": "markdown",
   "id": "13beefab-e396-4aeb-8536-746abbee6ca3",
   "metadata": {},
   "source": [
    "Парсинг даних з утворенням нових ознак"
   ]
  },
  {
   "cell_type": "code",
   "execution_count": 2,
   "id": "eabe1d84-3a34-4565-b6a1-393b1e5b58e0",
   "metadata": {},
   "outputs": [
    {
     "data": {
      "text/html": [
       "<div>\n",
       "<style scoped>\n",
       "    .dataframe tbody tr th:only-of-type {\n",
       "        vertical-align: middle;\n",
       "    }\n",
       "\n",
       "    .dataframe tbody tr th {\n",
       "        vertical-align: top;\n",
       "    }\n",
       "\n",
       "    .dataframe thead th {\n",
       "        text-align: right;\n",
       "    }\n",
       "</style>\n",
       "<table border=\"1\" class=\"dataframe\">\n",
       "  <thead>\n",
       "    <tr style=\"text-align: right;\">\n",
       "      <th></th>\n",
       "      <th>accelerometer_X</th>\n",
       "      <th>accelerometer_Y</th>\n",
       "      <th>accelerometer_Z</th>\n",
       "      <th>var_x</th>\n",
       "      <th>std_y</th>\n",
       "      <th>median_y</th>\n",
       "      <th>max_x</th>\n",
       "      <th>min_x</th>\n",
       "      <th>rms_y</th>\n",
       "      <th>skewness_y</th>\n",
       "      <th>skewness_z</th>\n",
       "      <th>kurtosis_z</th>\n",
       "      <th>iqr_x</th>\n",
       "      <th>iqr_z</th>\n",
       "      <th>mad_x</th>\n",
       "      <th>mad_y</th>\n",
       "      <th>mad_z</th>\n",
       "      <th>min_index_y</th>\n",
       "      <th>folder</th>\n",
       "      <th>file</th>\n",
       "    </tr>\n",
       "  </thead>\n",
       "  <tbody>\n",
       "    <tr>\n",
       "      <th>0</th>\n",
       "      <td>1.000776</td>\n",
       "      <td>4.616021</td>\n",
       "      <td>8.576031</td>\n",
       "      <td>1.074044</td>\n",
       "      <td>1.138147</td>\n",
       "      <td>-0.131681</td>\n",
       "      <td>5.09965</td>\n",
       "      <td>-0.909797</td>\n",
       "      <td>1.150396</td>\n",
       "      <td>3.64747</td>\n",
       "      <td>-2.365312</td>\n",
       "      <td>4.369874</td>\n",
       "      <td>0.06584</td>\n",
       "      <td>0.034716</td>\n",
       "      <td>0.539706</td>\n",
       "      <td>0.566011</td>\n",
       "      <td>0.275546</td>\n",
       "      <td>2</td>\n",
       "      <td>idle</td>\n",
       "      <td>idle-1</td>\n",
       "    </tr>\n",
       "    <tr>\n",
       "      <th>1</th>\n",
       "      <td>0.718261</td>\n",
       "      <td>4.209007</td>\n",
       "      <td>8.446744</td>\n",
       "      <td>1.074044</td>\n",
       "      <td>1.138147</td>\n",
       "      <td>-0.131681</td>\n",
       "      <td>5.09965</td>\n",
       "      <td>-0.909797</td>\n",
       "      <td>1.150396</td>\n",
       "      <td>3.64747</td>\n",
       "      <td>-2.365312</td>\n",
       "      <td>4.369874</td>\n",
       "      <td>0.06584</td>\n",
       "      <td>0.034716</td>\n",
       "      <td>0.539706</td>\n",
       "      <td>0.566011</td>\n",
       "      <td>0.275546</td>\n",
       "      <td>2</td>\n",
       "      <td>idle</td>\n",
       "      <td>idle-1</td>\n",
       "    </tr>\n",
       "    <tr>\n",
       "      <th>2</th>\n",
       "      <td>-0.909797</td>\n",
       "      <td>-0.282516</td>\n",
       "      <td>9.203311</td>\n",
       "      <td>1.074044</td>\n",
       "      <td>1.138147</td>\n",
       "      <td>-0.131681</td>\n",
       "      <td>5.09965</td>\n",
       "      <td>-0.909797</td>\n",
       "      <td>1.150396</td>\n",
       "      <td>3.64747</td>\n",
       "      <td>-2.365312</td>\n",
       "      <td>4.369874</td>\n",
       "      <td>0.06584</td>\n",
       "      <td>0.034716</td>\n",
       "      <td>0.539706</td>\n",
       "      <td>0.566011</td>\n",
       "      <td>0.275546</td>\n",
       "      <td>2</td>\n",
       "      <td>idle</td>\n",
       "      <td>idle-1</td>\n",
       "    </tr>\n",
       "    <tr>\n",
       "      <th>3</th>\n",
       "      <td>5.099650</td>\n",
       "      <td>0.148441</td>\n",
       "      <td>8.418014</td>\n",
       "      <td>1.074044</td>\n",
       "      <td>1.138147</td>\n",
       "      <td>-0.131681</td>\n",
       "      <td>5.09965</td>\n",
       "      <td>-0.909797</td>\n",
       "      <td>1.150396</td>\n",
       "      <td>3.64747</td>\n",
       "      <td>-2.365312</td>\n",
       "      <td>4.369874</td>\n",
       "      <td>0.06584</td>\n",
       "      <td>0.034716</td>\n",
       "      <td>0.539706</td>\n",
       "      <td>0.566011</td>\n",
       "      <td>0.275546</td>\n",
       "      <td>2</td>\n",
       "      <td>idle</td>\n",
       "      <td>idle-1</td>\n",
       "    </tr>\n",
       "    <tr>\n",
       "      <th>4</th>\n",
       "      <td>1.762132</td>\n",
       "      <td>-0.162806</td>\n",
       "      <td>9.251195</td>\n",
       "      <td>1.074044</td>\n",
       "      <td>1.138147</td>\n",
       "      <td>-0.131681</td>\n",
       "      <td>5.09965</td>\n",
       "      <td>-0.909797</td>\n",
       "      <td>1.150396</td>\n",
       "      <td>3.64747</td>\n",
       "      <td>-2.365312</td>\n",
       "      <td>4.369874</td>\n",
       "      <td>0.06584</td>\n",
       "      <td>0.034716</td>\n",
       "      <td>0.539706</td>\n",
       "      <td>0.566011</td>\n",
       "      <td>0.275546</td>\n",
       "      <td>2</td>\n",
       "      <td>idle</td>\n",
       "      <td>idle-1</td>\n",
       "    </tr>\n",
       "  </tbody>\n",
       "</table>\n",
       "</div>"
      ],
      "text/plain": [
       "   accelerometer_X  accelerometer_Y  accelerometer_Z     var_x     std_y  \\\n",
       "0         1.000776         4.616021         8.576031  1.074044  1.138147   \n",
       "1         0.718261         4.209007         8.446744  1.074044  1.138147   \n",
       "2        -0.909797        -0.282516         9.203311  1.074044  1.138147   \n",
       "3         5.099650         0.148441         8.418014  1.074044  1.138147   \n",
       "4         1.762132        -0.162806         9.251195  1.074044  1.138147   \n",
       "\n",
       "   median_y    max_x     min_x     rms_y  skewness_y  skewness_z  kurtosis_z  \\\n",
       "0 -0.131681  5.09965 -0.909797  1.150396     3.64747   -2.365312    4.369874   \n",
       "1 -0.131681  5.09965 -0.909797  1.150396     3.64747   -2.365312    4.369874   \n",
       "2 -0.131681  5.09965 -0.909797  1.150396     3.64747   -2.365312    4.369874   \n",
       "3 -0.131681  5.09965 -0.909797  1.150396     3.64747   -2.365312    4.369874   \n",
       "4 -0.131681  5.09965 -0.909797  1.150396     3.64747   -2.365312    4.369874   \n",
       "\n",
       "     iqr_x     iqr_z     mad_x     mad_y     mad_z  min_index_y folder    file  \n",
       "0  0.06584  0.034716  0.539706  0.566011  0.275546            2   idle  idle-1  \n",
       "1  0.06584  0.034716  0.539706  0.566011  0.275546            2   idle  idle-1  \n",
       "2  0.06584  0.034716  0.539706  0.566011  0.275546            2   idle  idle-1  \n",
       "3  0.06584  0.034716  0.539706  0.566011  0.275546            2   idle  idle-1  \n",
       "4  0.06584  0.034716  0.539706  0.566011  0.275546            2   idle  idle-1  "
      ]
     },
     "execution_count": 2,
     "metadata": {},
     "output_type": "execute_result"
    }
   ],
   "source": [
    "main_directory = \"./data\"\n",
    "\n",
    "subdirectories = [f.path for f in os.scandir(main_directory) if f.is_dir()]\n",
    "dfs = []\n",
    "\n",
    "for directory in subdirectories:\n",
    "    files = [f for f in os.scandir(directory) if f.name.endswith('.csv')]\n",
    "    \n",
    "    for file in files:\n",
    "        file_path = file.path\n",
    "        df_temp = pd.read_csv(file_path)\n",
    "        x = df_temp['accelerometer_X']\n",
    "        y = df_temp['accelerometer_Y']\n",
    "        z = df_temp['accelerometer_Z']\n",
    "        df_temp['var_x'] = x.var()\n",
    "        df_temp['std_y'] = y.std(ddof=0)\n",
    "        df_temp['median_y'] = y.median()\n",
    "        df_temp['max_x'] = x.max()\n",
    "        df_temp['min_x'] = x.min()\n",
    "        df_temp['rms_y'] = np.sqrt((y ** 2).mean())\n",
    "        df_temp['skewness_y'] = y.skew()\n",
    "        df_temp['skewness_z'] = z.skew()\n",
    "        df_temp['kurtosis_z'] = z.kurtosis()\n",
    "        df_temp['iqr_x'] = x.quantile(0.75) - x.quantile(0.25)\n",
    "        df_temp['iqr_z'] = z.quantile(0.75) - z.quantile(0.25)\n",
    "        df_temp['mad_x'] = np.mean(np.abs(x - np.mean(x)))\n",
    "        df_temp['mad_y'] = np.mean(np.abs(y - np.mean(y)))\n",
    "        df_temp['mad_z'] = np.mean(np.abs(z - np.mean(z)))\n",
    "        df_temp['min_index_y'] = y.idxmin()\n",
    "        \n",
    "        df_temp['folder'] = os.path.basename(directory)\n",
    "        df_temp['file'] = os.path.splitext(file.name)[0]\n",
    "        \n",
    "        dfs.append(df_temp)\n",
    "\n",
    "df = pd.concat(dfs, ignore_index=True)\n",
    "\n",
    "df.head()"
   ]
  },
  {
   "cell_type": "markdown",
   "id": "786b2cf2-d1b8-460b-9f8a-8de2ae0c8d52",
   "metadata": {},
   "source": [
    "# Розділення даних"
   ]
  },
  {
   "cell_type": "markdown",
   "id": "0ad883a9-2edb-4872-b26b-84a75cb2cf65",
   "metadata": {},
   "source": [
    "Розділення даних за файлом.30% для тренування"
   ]
  },
  {
   "cell_type": "code",
   "execution_count": 3,
   "id": "b7be1fcd-8b0f-43d2-8dca-1448080be396",
   "metadata": {},
   "outputs": [],
   "source": [
    "files = df.file.unique()\n",
    "sample = np.random.choice(files, size=int(len(files)*0.3), replace=False)\n",
    "train = df[df['file'].isin(sample)].reset_index(drop=True)"
   ]
  },
  {
   "cell_type": "markdown",
   "id": "9f808edf-8de5-4456-9ca3-a0ea7b81a93c",
   "metadata": {},
   "source": [
    "Решта файлів для тестів передбачення"
   ]
  },
  {
   "cell_type": "code",
   "execution_count": 4,
   "id": "0f877baf-c8bd-4eba-ae58-38d3bc8fddee",
   "metadata": {},
   "outputs": [],
   "source": [
    "test_files = np.setdiff1d(files, sample)\n",
    "test = df[df['file'].isin(test_files)].reset_index(drop=True)"
   ]
  },
  {
   "cell_type": "markdown",
   "id": "40cb62c5-6de5-47ca-875f-25b452eeda69",
   "metadata": {},
   "source": [
    "Розділення на ознаки для навчання та діяльність"
   ]
  },
  {
   "cell_type": "code",
   "execution_count": 5,
   "id": "239fcd3c-a8c4-4ea6-813d-fd7af2c23bcd",
   "metadata": {},
   "outputs": [],
   "source": [
    "x_train = train.drop(columns=['file', 'folder'])\n",
    "y_train = train['folder']\n",
    "x_test = test.drop(columns=['file', 'folder'])\n",
    "y_test = test['folder']"
   ]
  },
  {
   "cell_type": "markdown",
   "id": "ccc07cdc-621b-45ab-b54c-27e8915e51ce",
   "metadata": {},
   "source": [
    "# Нормалізація"
   ]
  },
  {
   "cell_type": "markdown",
   "id": "a44c2758-3de5-4666-bfcd-d856cb03fead",
   "metadata": {},
   "source": [
    "Нормалізація даних для тренування"
   ]
  },
  {
   "cell_type": "code",
   "execution_count": 6,
   "id": "d35bb4d5-51ed-4ae5-8df9-1453625ff34f",
   "metadata": {},
   "outputs": [],
   "source": [
    "scaler = StandardScaler()\n",
    "data_to_normalize = x_train[x_train.columns]\n",
    "\n",
    "normalized_data = scaler.fit_transform(data_to_normalize)\n",
    "\n",
    "x_n_train = x_train.copy()\n",
    "x_n_train[x_train.columns] = normalized_data"
   ]
  },
  {
   "cell_type": "markdown",
   "id": "bb4b1284-817a-4dcc-80ce-2119a827f600",
   "metadata": {},
   "source": [
    "Нормалізація даних для тестів"
   ]
  },
  {
   "cell_type": "code",
   "execution_count": 7,
   "id": "0bdec2c9-b1ef-45f6-be1f-bf57062669d1",
   "metadata": {},
   "outputs": [],
   "source": [
    "data_to_normalize = x_test[x_test.columns]\n",
    "\n",
    "normalized_data = scaler.fit_transform(data_to_normalize)\n",
    "\n",
    "x_n_test = x_test.copy()\n",
    "x_n_test[x_test.columns] = normalized_data"
   ]
  },
  {
   "cell_type": "markdown",
   "id": "acab404e-5d74-449c-9dc2-6ea5e8aae08a",
   "metadata": {},
   "source": [
    "# Навчання моделей"
   ]
  },
  {
   "cell_type": "markdown",
   "id": "60f1edb1-7a37-4d32-b8f8-31ca2bf4828d",
   "metadata": {},
   "source": [
    "Навчання моделі Support vector machines на нормалізованих даних"
   ]
  },
  {
   "cell_type": "code",
   "execution_count": 8,
   "id": "93cdbc70-92d5-48fa-a4c7-3f6f0d19976d",
   "metadata": {},
   "outputs": [
    {
     "data": {
      "text/html": [
       "<style>#sk-container-id-1 {color: black;}#sk-container-id-1 pre{padding: 0;}#sk-container-id-1 div.sk-toggleable {background-color: white;}#sk-container-id-1 label.sk-toggleable__label {cursor: pointer;display: block;width: 100%;margin-bottom: 0;padding: 0.3em;box-sizing: border-box;text-align: center;}#sk-container-id-1 label.sk-toggleable__label-arrow:before {content: \"▸\";float: left;margin-right: 0.25em;color: #696969;}#sk-container-id-1 label.sk-toggleable__label-arrow:hover:before {color: black;}#sk-container-id-1 div.sk-estimator:hover label.sk-toggleable__label-arrow:before {color: black;}#sk-container-id-1 div.sk-toggleable__content {max-height: 0;max-width: 0;overflow: hidden;text-align: left;background-color: #f0f8ff;}#sk-container-id-1 div.sk-toggleable__content pre {margin: 0.2em;color: black;border-radius: 0.25em;background-color: #f0f8ff;}#sk-container-id-1 input.sk-toggleable__control:checked~div.sk-toggleable__content {max-height: 200px;max-width: 100%;overflow: auto;}#sk-container-id-1 input.sk-toggleable__control:checked~label.sk-toggleable__label-arrow:before {content: \"▾\";}#sk-container-id-1 div.sk-estimator input.sk-toggleable__control:checked~label.sk-toggleable__label {background-color: #d4ebff;}#sk-container-id-1 div.sk-label input.sk-toggleable__control:checked~label.sk-toggleable__label {background-color: #d4ebff;}#sk-container-id-1 input.sk-hidden--visually {border: 0;clip: rect(1px 1px 1px 1px);clip: rect(1px, 1px, 1px, 1px);height: 1px;margin: -1px;overflow: hidden;padding: 0;position: absolute;width: 1px;}#sk-container-id-1 div.sk-estimator {font-family: monospace;background-color: #f0f8ff;border: 1px dotted black;border-radius: 0.25em;box-sizing: border-box;margin-bottom: 0.5em;}#sk-container-id-1 div.sk-estimator:hover {background-color: #d4ebff;}#sk-container-id-1 div.sk-parallel-item::after {content: \"\";width: 100%;border-bottom: 1px solid gray;flex-grow: 1;}#sk-container-id-1 div.sk-label:hover label.sk-toggleable__label {background-color: #d4ebff;}#sk-container-id-1 div.sk-serial::before {content: \"\";position: absolute;border-left: 1px solid gray;box-sizing: border-box;top: 0;bottom: 0;left: 50%;z-index: 0;}#sk-container-id-1 div.sk-serial {display: flex;flex-direction: column;align-items: center;background-color: white;padding-right: 0.2em;padding-left: 0.2em;position: relative;}#sk-container-id-1 div.sk-item {position: relative;z-index: 1;}#sk-container-id-1 div.sk-parallel {display: flex;align-items: stretch;justify-content: center;background-color: white;position: relative;}#sk-container-id-1 div.sk-item::before, #sk-container-id-1 div.sk-parallel-item::before {content: \"\";position: absolute;border-left: 1px solid gray;box-sizing: border-box;top: 0;bottom: 0;left: 50%;z-index: -1;}#sk-container-id-1 div.sk-parallel-item {display: flex;flex-direction: column;z-index: 1;position: relative;background-color: white;}#sk-container-id-1 div.sk-parallel-item:first-child::after {align-self: flex-end;width: 50%;}#sk-container-id-1 div.sk-parallel-item:last-child::after {align-self: flex-start;width: 50%;}#sk-container-id-1 div.sk-parallel-item:only-child::after {width: 0;}#sk-container-id-1 div.sk-dashed-wrapped {border: 1px dashed gray;margin: 0 0.4em 0.5em 0.4em;box-sizing: border-box;padding-bottom: 0.4em;background-color: white;}#sk-container-id-1 div.sk-label label {font-family: monospace;font-weight: bold;display: inline-block;line-height: 1.2em;}#sk-container-id-1 div.sk-label-container {text-align: center;}#sk-container-id-1 div.sk-container {/* jupyter's `normalize.less` sets `[hidden] { display: none; }` but bootstrap.min.css set `[hidden] { display: none !important; }` so we also need the `!important` here to be able to override the default hidden behavior on the sphinx rendered scikit-learn.org. See: https://github.com/scikit-learn/scikit-learn/issues/21755 */display: inline-block !important;position: relative;}#sk-container-id-1 div.sk-text-repr-fallback {display: none;}</style><div id=\"sk-container-id-1\" class=\"sk-top-container\"><div class=\"sk-text-repr-fallback\"><pre>SVC()</pre><b>In a Jupyter environment, please rerun this cell to show the HTML representation or trust the notebook. <br />On GitHub, the HTML representation is unable to render, please try loading this page with nbviewer.org.</b></div><div class=\"sk-container\" hidden><div class=\"sk-item\"><div class=\"sk-estimator sk-toggleable\"><input class=\"sk-toggleable__control sk-hidden--visually\" id=\"sk-estimator-id-1\" type=\"checkbox\" checked><label for=\"sk-estimator-id-1\" class=\"sk-toggleable__label sk-toggleable__label-arrow\">SVC</label><div class=\"sk-toggleable__content\"><pre>SVC()</pre></div></div></div></div></div>"
      ],
      "text/plain": [
       "SVC()"
      ]
     },
     "execution_count": 8,
     "metadata": {},
     "output_type": "execute_result"
    }
   ],
   "source": [
    "model_svm = SVC()\n",
    "model_svm.fit(x_n_train, y_train)"
   ]
  },
  {
   "cell_type": "markdown",
   "id": "a933307a-3722-40f5-99f9-f080e5e54599",
   "metadata": {},
   "source": [
    "Навчання моделі Random Forest на оригінальних даних"
   ]
  },
  {
   "cell_type": "code",
   "execution_count": 9,
   "id": "18d7b512-31e3-4b07-aeaf-e116681bbf56",
   "metadata": {},
   "outputs": [
    {
     "data": {
      "text/html": [
       "<style>#sk-container-id-2 {color: black;}#sk-container-id-2 pre{padding: 0;}#sk-container-id-2 div.sk-toggleable {background-color: white;}#sk-container-id-2 label.sk-toggleable__label {cursor: pointer;display: block;width: 100%;margin-bottom: 0;padding: 0.3em;box-sizing: border-box;text-align: center;}#sk-container-id-2 label.sk-toggleable__label-arrow:before {content: \"▸\";float: left;margin-right: 0.25em;color: #696969;}#sk-container-id-2 label.sk-toggleable__label-arrow:hover:before {color: black;}#sk-container-id-2 div.sk-estimator:hover label.sk-toggleable__label-arrow:before {color: black;}#sk-container-id-2 div.sk-toggleable__content {max-height: 0;max-width: 0;overflow: hidden;text-align: left;background-color: #f0f8ff;}#sk-container-id-2 div.sk-toggleable__content pre {margin: 0.2em;color: black;border-radius: 0.25em;background-color: #f0f8ff;}#sk-container-id-2 input.sk-toggleable__control:checked~div.sk-toggleable__content {max-height: 200px;max-width: 100%;overflow: auto;}#sk-container-id-2 input.sk-toggleable__control:checked~label.sk-toggleable__label-arrow:before {content: \"▾\";}#sk-container-id-2 div.sk-estimator input.sk-toggleable__control:checked~label.sk-toggleable__label {background-color: #d4ebff;}#sk-container-id-2 div.sk-label input.sk-toggleable__control:checked~label.sk-toggleable__label {background-color: #d4ebff;}#sk-container-id-2 input.sk-hidden--visually {border: 0;clip: rect(1px 1px 1px 1px);clip: rect(1px, 1px, 1px, 1px);height: 1px;margin: -1px;overflow: hidden;padding: 0;position: absolute;width: 1px;}#sk-container-id-2 div.sk-estimator {font-family: monospace;background-color: #f0f8ff;border: 1px dotted black;border-radius: 0.25em;box-sizing: border-box;margin-bottom: 0.5em;}#sk-container-id-2 div.sk-estimator:hover {background-color: #d4ebff;}#sk-container-id-2 div.sk-parallel-item::after {content: \"\";width: 100%;border-bottom: 1px solid gray;flex-grow: 1;}#sk-container-id-2 div.sk-label:hover label.sk-toggleable__label {background-color: #d4ebff;}#sk-container-id-2 div.sk-serial::before {content: \"\";position: absolute;border-left: 1px solid gray;box-sizing: border-box;top: 0;bottom: 0;left: 50%;z-index: 0;}#sk-container-id-2 div.sk-serial {display: flex;flex-direction: column;align-items: center;background-color: white;padding-right: 0.2em;padding-left: 0.2em;position: relative;}#sk-container-id-2 div.sk-item {position: relative;z-index: 1;}#sk-container-id-2 div.sk-parallel {display: flex;align-items: stretch;justify-content: center;background-color: white;position: relative;}#sk-container-id-2 div.sk-item::before, #sk-container-id-2 div.sk-parallel-item::before {content: \"\";position: absolute;border-left: 1px solid gray;box-sizing: border-box;top: 0;bottom: 0;left: 50%;z-index: -1;}#sk-container-id-2 div.sk-parallel-item {display: flex;flex-direction: column;z-index: 1;position: relative;background-color: white;}#sk-container-id-2 div.sk-parallel-item:first-child::after {align-self: flex-end;width: 50%;}#sk-container-id-2 div.sk-parallel-item:last-child::after {align-self: flex-start;width: 50%;}#sk-container-id-2 div.sk-parallel-item:only-child::after {width: 0;}#sk-container-id-2 div.sk-dashed-wrapped {border: 1px dashed gray;margin: 0 0.4em 0.5em 0.4em;box-sizing: border-box;padding-bottom: 0.4em;background-color: white;}#sk-container-id-2 div.sk-label label {font-family: monospace;font-weight: bold;display: inline-block;line-height: 1.2em;}#sk-container-id-2 div.sk-label-container {text-align: center;}#sk-container-id-2 div.sk-container {/* jupyter's `normalize.less` sets `[hidden] { display: none; }` but bootstrap.min.css set `[hidden] { display: none !important; }` so we also need the `!important` here to be able to override the default hidden behavior on the sphinx rendered scikit-learn.org. See: https://github.com/scikit-learn/scikit-learn/issues/21755 */display: inline-block !important;position: relative;}#sk-container-id-2 div.sk-text-repr-fallback {display: none;}</style><div id=\"sk-container-id-2\" class=\"sk-top-container\"><div class=\"sk-text-repr-fallback\"><pre>RandomForestClassifier()</pre><b>In a Jupyter environment, please rerun this cell to show the HTML representation or trust the notebook. <br />On GitHub, the HTML representation is unable to render, please try loading this page with nbviewer.org.</b></div><div class=\"sk-container\" hidden><div class=\"sk-item\"><div class=\"sk-estimator sk-toggleable\"><input class=\"sk-toggleable__control sk-hidden--visually\" id=\"sk-estimator-id-2\" type=\"checkbox\" checked><label for=\"sk-estimator-id-2\" class=\"sk-toggleable__label sk-toggleable__label-arrow\">RandomForestClassifier</label><div class=\"sk-toggleable__content\"><pre>RandomForestClassifier()</pre></div></div></div></div></div>"
      ],
      "text/plain": [
       "RandomForestClassifier()"
      ]
     },
     "execution_count": 9,
     "metadata": {},
     "output_type": "execute_result"
    }
   ],
   "source": [
    "model_rf = RandomForestClassifier()\n",
    "model_rf.fit(x_train, y_train)"
   ]
  },
  {
   "cell_type": "markdown",
   "id": "6b9ddb2f-08f6-4b45-8b15-4d2ae0962b0e",
   "metadata": {},
   "source": [
    "# Передбачення"
   ]
  },
  {
   "cell_type": "markdown",
   "id": "680b1a48-cf59-42cc-b57b-894c996f8d27",
   "metadata": {},
   "source": [
    "Передбачення на нормалізованих даних для SVM, та оригінальних даних для Random Forest відповідно. Підрахунок точності передбачення"
   ]
  },
  {
   "cell_type": "code",
   "execution_count": 10,
   "id": "e9a905b1-a3f9-4dac-beb6-48b888fe491e",
   "metadata": {},
   "outputs": [],
   "source": [
    "y_pred_svm = model_svm.predict(x_n_test)\n",
    "y_pred_rf = model_rf.predict(x_test)\n",
    "\n",
    "svm_score = accuracy_score(y_test, y_pred_svm)\n",
    "rf_score = accuracy_score(y_test, y_pred_rf)"
   ]
  },
  {
   "cell_type": "markdown",
   "id": "0fd161e0-42bd-4eab-b838-b19392bfe2b2",
   "metadata": {},
   "source": [
    "# Візуалізація"
   ]
  },
  {
   "cell_type": "markdown",
   "id": "75403437-e296-4602-9a0d-ef509fbabe39",
   "metadata": {},
   "source": [
    "Візуалізація обох моделей"
   ]
  },
  {
   "cell_type": "code",
   "execution_count": 11,
   "id": "fda803c3-b5d0-4b15-9e63-f029180efee3",
   "metadata": {},
   "outputs": [
    {
     "name": "stdout",
     "output_type": "stream",
     "text": [
      "Точність моделі SVM:0.9929634541703507\n",
      "Точність моделі випадкового лісу:0.9951444149720011\n"
     ]
    },
    {
     "data": {
      "image/png": "[encoded data removed]",
      "text/plain": [
       "<Figure size 1400x500 with 4 Axes>"
      ]
     },
     "metadata": {},
     "output_type": "display_data"
    }
   ],
   "source": [
    "svm_confusion_matrix = confusion_matrix(y_test, y_pred_svm)\n",
    "rf_confusion_matrix = confusion_matrix(y_test, y_pred_rf)\n",
    "\n",
    "print(f'Точність моделі SVM:{svm_score}')\n",
    "print(f'Точність моделі випадкового лісу:{rf_score}')\n",
    "\n",
    "fig, axes = plt.subplots(1, 2, figsize=(14, 5))\n",
    "\n",
    "sns.heatmap(svm_confusion_matrix, annot=True, fmt='d', cmap='Blues',\n",
    "            xticklabels=df.folder.unique(), yticklabels=df.folder.unique(), ax=axes[0])\n",
    "axes[0].set_title('Матриця помилок моделі SVM')\n",
    "axes[0].set_xlabel('Прогнозована клас')\n",
    "axes[0].set_ylabel('Справжній клас')\n",
    "\n",
    "sns.heatmap(rf_confusion_matrix, annot=True, fmt='d', cmap='Greens',\n",
    "            xticklabels=df.folder.unique(), yticklabels=df.folder.unique(), ax=axes[1])\n",
    "axes[1].set_title('Матриця помилок моделі Випадкового лісу')\n",
    "axes[1].set_xlabel('Прогнозована клас')\n",
    "axes[1].set_ylabel('Справжній клас')\n",
    "\n",
    "plt.show()"
   ]
  },
  {
   "cell_type": "markdown",
   "id": "e7a27c75-07fc-4119-b4df-578bf537872d",
   "metadata": {},
   "source": [
    "В обох моделях високий рівень передбачення, але не 100%"
   ]
  },
  {
   "cell_type": "code",
   "execution_count": null,
   "id": "ab7c03dc-6a82-4ebf-af51-4846bf93e3e0",
   "metadata": {},
   "outputs": [],
   "source": []
  }
 ],
 "metadata": {
  "kernelspec": {
   "display_name": "Python 3 (ipykernel)",
   "language": "python",
   "name": "python3"
  },
  "language_info": {
   "codemirror_mode": {
    "name": "ipython",
    "version": 3
   },
   "file_extension": ".py",
   "mimetype": "text/x-python",
   "name": "python",
   "nbconvert_exporter": "python",
   "pygments_lexer": "ipython3",
   "version": "3.11.1"
  }
 },
 "nbformat": 4,
 "nbformat_minor": 5
}
