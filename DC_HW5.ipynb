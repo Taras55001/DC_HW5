{
 "cells": [
  {
   "cell_type": "code",
   "execution_count": 1,
   "id": "54c4451b-c2af-4f1c-93b9-83d3c4a0e85d",
   "metadata": {},
   "outputs": [],
   "source": [
    "import os\n",
    "import numpy as np\n",
    "import pandas as pd"
   ]
  },
  {
   "cell_type": "code",
   "execution_count": 2,
   "id": "eabe1d84-3a34-4565-b6a1-393b1e5b58e0",
   "metadata": {},
   "outputs": [
    {
     "data": {
      "text/html": [
       "<div>\n",
       "<style scoped>\n",
       "    .dataframe tbody tr th:only-of-type {\n",
       "        vertical-align: middle;\n",
       "    }\n",
       "\n",
       "    .dataframe tbody tr th {\n",
       "        vertical-align: top;\n",
       "    }\n",
       "\n",
       "    .dataframe thead th {\n",
       "        text-align: right;\n",
       "    }\n",
       "</style>\n",
       "<table border=\"1\" class=\"dataframe\">\n",
       "  <thead>\n",
       "    <tr style=\"text-align: right;\">\n",
       "      <th></th>\n",
       "      <th>accelerometer_X</th>\n",
       "      <th>accelerometer_Y</th>\n",
       "      <th>accelerometer_Z</th>\n",
       "      <th>folder</th>\n",
       "      <th>file</th>\n",
       "    </tr>\n",
       "  </thead>\n",
       "  <tbody>\n",
       "    <tr>\n",
       "      <th>0</th>\n",
       "      <td>1.000776</td>\n",
       "      <td>4.616021</td>\n",
       "      <td>8.576031</td>\n",
       "      <td>idle</td>\n",
       "      <td>idle-1</td>\n",
       "    </tr>\n",
       "    <tr>\n",
       "      <th>1</th>\n",
       "      <td>0.718261</td>\n",
       "      <td>4.209007</td>\n",
       "      <td>8.446744</td>\n",
       "      <td>idle</td>\n",
       "      <td>idle-1</td>\n",
       "    </tr>\n",
       "    <tr>\n",
       "      <th>2</th>\n",
       "      <td>-0.909797</td>\n",
       "      <td>-0.282516</td>\n",
       "      <td>9.203311</td>\n",
       "      <td>idle</td>\n",
       "      <td>idle-1</td>\n",
       "    </tr>\n",
       "    <tr>\n",
       "      <th>3</th>\n",
       "      <td>5.099650</td>\n",
       "      <td>0.148441</td>\n",
       "      <td>8.418014</td>\n",
       "      <td>idle</td>\n",
       "      <td>idle-1</td>\n",
       "    </tr>\n",
       "    <tr>\n",
       "      <th>4</th>\n",
       "      <td>1.762132</td>\n",
       "      <td>-0.162806</td>\n",
       "      <td>9.251195</td>\n",
       "      <td>idle</td>\n",
       "      <td>idle-1</td>\n",
       "    </tr>\n",
       "  </tbody>\n",
       "</table>\n",
       "</div>"
      ],
      "text/plain": [
       "   accelerometer_X  accelerometer_Y  accelerometer_Z folder    file\n",
       "0         1.000776         4.616021         8.576031   idle  idle-1\n",
       "1         0.718261         4.209007         8.446744   idle  idle-1\n",
       "2        -0.909797        -0.282516         9.203311   idle  idle-1\n",
       "3         5.099650         0.148441         8.418014   idle  idle-1\n",
       "4         1.762132        -0.162806         9.251195   idle  idle-1"
      ]
     },
     "execution_count": 2,
     "metadata": {},
     "output_type": "execute_result"
    }
   ],
   "source": [
    "main_directory = \"./data\"\n",
    "subdirectories = [f.path for f in os.scandir(main_directory) if f.is_dir()]\n",
    "dfs = []\n",
    "\n",
    "for directory in subdirectories:\n",
    "    files = [f for f in os.scandir(directory) if f.name.endswith('.csv')]\n",
    "    \n",
    "    for file in files:\n",
    "        file_path = file.path\n",
    "        df_temp = pd.read_csv(file_path)\n",
    "        df_temp['folder'] = os.path.basename(directory)\n",
    "        df_temp['file'] = os.path.splitext(file.name)[0]\n",
    "        dfs.append(df_temp)\n",
    "\n",
    "df = pd.concat(dfs, ignore_index=True)\n",
    "\n",
    "df.head()"
   ]
  },
  {
   "cell_type": "code",
   "execution_count": 3,
   "id": "34e8bc32-9006-49b4-907a-ad37b06a0441",
   "metadata": {},
   "outputs": [
    {
     "data": {
      "text/plain": [
       "array(['idle', 'running', 'stairs', 'walking'], dtype=object)"
      ]
     },
     "execution_count": 3,
     "metadata": {},
     "output_type": "execute_result"
    }
   ],
   "source": [
    "df.folder.unique()"
   ]
  },
  {
   "cell_type": "code",
   "execution_count": 4,
   "id": "f2f50eb7-bc54-49ac-a3ed-7ebf9b4121f8",
   "metadata": {},
   "outputs": [
    {
     "data": {
      "text/html": [
       "<div>\n",
       "<style scoped>\n",
       "    .dataframe tbody tr th:only-of-type {\n",
       "        vertical-align: middle;\n",
       "    }\n",
       "\n",
       "    .dataframe tbody tr th {\n",
       "        vertical-align: top;\n",
       "    }\n",
       "\n",
       "    .dataframe thead th {\n",
       "        text-align: right;\n",
       "    }\n",
       "</style>\n",
       "<table border=\"1\" class=\"dataframe\">\n",
       "  <thead>\n",
       "    <tr style=\"text-align: right;\">\n",
       "      <th></th>\n",
       "      <th>accelerometer_X</th>\n",
       "      <th>accelerometer_Y</th>\n",
       "      <th>accelerometer_Z</th>\n",
       "      <th>accelerometer_X_n</th>\n",
       "      <th>accelerometer_Y_n</th>\n",
       "      <th>accelerometer_Z_n</th>\n",
       "    </tr>\n",
       "  </thead>\n",
       "  <tbody>\n",
       "    <tr>\n",
       "      <th>count</th>\n",
       "      <td>193860.000000</td>\n",
       "      <td>193860.000000</td>\n",
       "      <td>193860.000000</td>\n",
       "      <td>1.938600e+05</td>\n",
       "      <td>1.938600e+05</td>\n",
       "      <td>1.938600e+05</td>\n",
       "    </tr>\n",
       "    <tr>\n",
       "      <th>mean</th>\n",
       "      <td>1.923550</td>\n",
       "      <td>1.598343</td>\n",
       "      <td>1.804896</td>\n",
       "      <td>8.561992e-17</td>\n",
       "      <td>9.383005e-18</td>\n",
       "      <td>4.222352e-17</td>\n",
       "    </tr>\n",
       "    <tr>\n",
       "      <th>std</th>\n",
       "      <td>8.404867</td>\n",
       "      <td>12.474041</td>\n",
       "      <td>7.191590</td>\n",
       "      <td>1.000000e+00</td>\n",
       "      <td>1.000000e+00</td>\n",
       "      <td>1.000000e+00</td>\n",
       "    </tr>\n",
       "    <tr>\n",
       "      <th>min</th>\n",
       "      <td>-39.188293</td>\n",
       "      <td>-39.188293</td>\n",
       "      <td>-39.188293</td>\n",
       "      <td>-4.891433e+00</td>\n",
       "      <td>-3.269721e+00</td>\n",
       "      <td>-5.700156e+00</td>\n",
       "    </tr>\n",
       "    <tr>\n",
       "      <th>25%</th>\n",
       "      <td>-2.494758</td>\n",
       "      <td>-8.327033</td>\n",
       "      <td>-2.494758</td>\n",
       "      <td>-5.256844e-01</td>\n",
       "      <td>-7.956825e-01</td>\n",
       "      <td>-5.978725e-01</td>\n",
       "    </tr>\n",
       "    <tr>\n",
       "      <th>50%</th>\n",
       "      <td>0.248997</td>\n",
       "      <td>-0.009577</td>\n",
       "      <td>0.905008</td>\n",
       "      <td>-1.992361e-01</td>\n",
       "      <td>-1.289013e-01</td>\n",
       "      <td>-1.251306e-01</td>\n",
       "    </tr>\n",
       "    <tr>\n",
       "      <th>75%</th>\n",
       "      <td>4.668694</td>\n",
       "      <td>8.671799</td>\n",
       "      <td>7.187394</td>\n",
       "      <td>3.266136e-01</td>\n",
       "      <td>5.670541e-01</td>\n",
       "      <td>7.484434e-01</td>\n",
       "    </tr>\n",
       "    <tr>\n",
       "      <th>max</th>\n",
       "      <td>39.188293</td>\n",
       "      <td>39.188293</td>\n",
       "      <td>39.188293</td>\n",
       "      <td>4.433710e+00</td>\n",
       "      <td>3.013454e+00</td>\n",
       "      <td>5.198210e+00</td>\n",
       "    </tr>\n",
       "  </tbody>\n",
       "</table>\n",
       "</div>"
      ],
      "text/plain": [
       "       accelerometer_X  accelerometer_Y  accelerometer_Z  accelerometer_X_n  \\\n",
       "count    193860.000000    193860.000000    193860.000000       1.938600e+05   \n",
       "mean          1.923550         1.598343         1.804896       8.561992e-17   \n",
       "std           8.404867        12.474041         7.191590       1.000000e+00   \n",
       "min         -39.188293       -39.188293       -39.188293      -4.891433e+00   \n",
       "25%          -2.494758        -8.327033        -2.494758      -5.256844e-01   \n",
       "50%           0.248997        -0.009577         0.905008      -1.992361e-01   \n",
       "75%           4.668694         8.671799         7.187394       3.266136e-01   \n",
       "max          39.188293        39.188293        39.188293       4.433710e+00   \n",
       "\n",
       "       accelerometer_Y_n  accelerometer_Z_n  \n",
       "count       1.938600e+05       1.938600e+05  \n",
       "mean        9.383005e-18       4.222352e-17  \n",
       "std         1.000000e+00       1.000000e+00  \n",
       "min        -3.269721e+00      -5.700156e+00  \n",
       "25%        -7.956825e-01      -5.978725e-01  \n",
       "50%        -1.289013e-01      -1.251306e-01  \n",
       "75%         5.670541e-01       7.484434e-01  \n",
       "max         3.013454e+00       5.198210e+00  "
      ]
     },
     "execution_count": 4,
     "metadata": {},
     "output_type": "execute_result"
    }
   ],
   "source": [
    "features = ['accelerometer_X', 'accelerometer_Y', 'accelerometer_Z']\n",
    "def custom_normalize(data, features):\n",
    "    for feature in features:\n",
    "        feature_data = data[feature]\n",
    "        mean = feature_data.mean()\n",
    "        std = feature_data.std()\n",
    "        normalized_column = (feature_data - mean) / std\n",
    "        data.loc[:, feature + '_n'] = normalized_column\n",
    "\n",
    "custom_normalize(df, features)\n",
    "\n",
    "df.describe()"
   ]
  },
  {
   "cell_type": "code",
   "execution_count": 5,
   "id": "b7be1fcd-8b0f-43d2-8dca-1448080be396",
   "metadata": {},
   "outputs": [
    {
     "name": "stdout",
     "output_type": "stream",
     "text": [
      "<class 'pandas.core.frame.DataFrame'>\n",
      "RangeIndex: 58140 entries, 0 to 58139\n",
      "Data columns (total 8 columns):\n",
      " #   Column             Non-Null Count  Dtype  \n",
      "---  ------             --------------  -----  \n",
      " 0   accelerometer_X    58140 non-null  float64\n",
      " 1   accelerometer_Y    58140 non-null  float64\n",
      " 2   accelerometer_Z    58140 non-null  float64\n",
      " 3   folder             58140 non-null  object \n",
      " 4   file               58140 non-null  object \n",
      " 5   accelerometer_X_n  58140 non-null  float64\n",
      " 6   accelerometer_Y_n  58140 non-null  float64\n",
      " 7   accelerometer_Z_n  58140 non-null  float64\n",
      "dtypes: float64(6), object(2)\n",
      "memory usage: 3.5+ MB\n"
     ]
    }
   ],
   "source": [
    "train = pd.DataFrame()\n",
    "files = df.file.unique()\n",
    "dfs_tr = []\n",
    "\n",
    "sample = np.random.choice(files, size=int(len(files)*0.3))\n",
    "for filename in sample:\n",
    "    dfs_tr.append(df[df['file']==filename])\n",
    "train = pd.concat(dfs_tr, ignore_index=True)\n",
    "train.info()"
   ]
  },
  {
   "cell_type": "code",
   "execution_count": 6,
   "id": "0f877baf-c8bd-4eba-ae58-38d3bc8fddee",
   "metadata": {},
   "outputs": [
    {
     "name": "stdout",
     "output_type": "stream",
     "text": [
      "<class 'pandas.core.frame.DataFrame'>\n",
      "RangeIndex: 143490 entries, 0 to 143489\n",
      "Data columns (total 8 columns):\n",
      " #   Column             Non-Null Count   Dtype  \n",
      "---  ------             --------------   -----  \n",
      " 0   accelerometer_X    143490 non-null  float64\n",
      " 1   accelerometer_Y    143490 non-null  float64\n",
      " 2   accelerometer_Z    143490 non-null  float64\n",
      " 3   folder             143490 non-null  object \n",
      " 4   file               143490 non-null  object \n",
      " 5   accelerometer_X_n  143490 non-null  float64\n",
      " 6   accelerometer_Y_n  143490 non-null  float64\n",
      " 7   accelerometer_Z_n  143490 non-null  float64\n",
      "dtypes: float64(6), object(2)\n",
      "memory usage: 8.8+ MB\n"
     ]
    }
   ],
   "source": [
    "test = pd.DataFrame()\n",
    "dfs_te = []\n",
    "test_filenames = [filename for filename in files if filename not in sample]\n",
    "for filename in test_filenames:\n",
    "    dfs_te.append(df[df['file']==filename])\n",
    "test = pd.concat(dfs_te, ignore_index=True)\n",
    "test.info()"
   ]
  },
  {
   "cell_type": "code",
   "execution_count": 7,
   "id": "effa9f7e-f9ab-45d6-a526-e2bef4f56f90",
   "metadata": {},
   "outputs": [
    {
     "name": "stdout",
     "output_type": "stream",
     "text": [
      "<class 'pandas.core.frame.DataFrame'>\n",
      "RangeIndex: 193860 entries, 0 to 193859\n",
      "Data columns (total 8 columns):\n",
      " #   Column             Non-Null Count   Dtype  \n",
      "---  ------             --------------   -----  \n",
      " 0   accelerometer_X    193860 non-null  float64\n",
      " 1   accelerometer_Y    193860 non-null  float64\n",
      " 2   accelerometer_Z    193860 non-null  float64\n",
      " 3   folder             193860 non-null  object \n",
      " 4   file               193860 non-null  object \n",
      " 5   accelerometer_X_n  193860 non-null  float64\n",
      " 6   accelerometer_Y_n  193860 non-null  float64\n",
      " 7   accelerometer_Z_n  193860 non-null  float64\n",
      "dtypes: float64(6), object(2)\n",
      "memory usage: 11.8+ MB\n"
     ]
    }
   ],
   "source": [
    "df.info()"
   ]
  },
  {
   "cell_type": "code",
   "execution_count": null,
   "id": "844a8d91-da0c-4089-b2cf-4ef9a632d0da",
   "metadata": {},
   "outputs": [],
   "source": []
  }
 ],
 "metadata": {
  "kernelspec": {
   "display_name": "Python 3 (ipykernel)",
   "language": "python",
   "name": "python3"
  },
  "language_info": {
   "codemirror_mode": {
    "name": "ipython",
    "version": 3
   },
   "file_extension": ".py",
   "mimetype": "text/x-python",
   "name": "python",
   "nbconvert_exporter": "python",
   "pygments_lexer": "ipython3",
   "version": "3.11.1"
  }
 },
 "nbformat": 4,
 "nbformat_minor": 5
}
